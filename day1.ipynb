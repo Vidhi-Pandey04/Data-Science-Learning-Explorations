{
 "cells": [
  {
   "cell_type": "markdown",
   "id": "d28895b1",
   "metadata": {},
   "source": [
    "# 🐍 Python for Data Science – Refresher\n",
    "\n",
    "**Author:** Vidhi Pandey  \n",
    "**Date:** June 2025  \n",
    "**Goal:** Brush up Python basics relevant for data science — data types, control flow, functions, list comprehensions, file handling, etc.\n"
   ]
  },
  {
   "cell_type": "markdown",
   "id": "f0c0927d",
   "metadata": {},
   "source": [
    "## 🔢 Python Basics – Data Types & Variables"
   ]
  },
  {
   "cell_type": "code",
   "execution_count": 2,
   "id": "71c84b6e",
   "metadata": {},
   "outputs": [
    {
     "name": "stdout",
     "output_type": "stream",
     "text": [
      "<class 'int'> <class 'float'> <class 'str'> <class 'bool'>\n"
     ]
    }
   ],
   "source": [
    "# Integer, Float, String, Boolean\n",
    "a = 10\n",
    "b = 3.14\n",
    "c = \"Data Science\"\n",
    "d = True\n",
    "\n",
    "print(type(a), type(b), type(c), type(d))"
   ]
  },
  {
   "cell_type": "markdown",
   "id": "c3a12ab0",
   "metadata": {},
   "source": [
    "## 📦 Lists, Tuples, Sets, and Dictionaries"
   ]
  },
  {
   "cell_type": "code",
   "execution_count": 3,
   "id": "d723f083",
   "metadata": {},
   "outputs": [
    {
     "name": "stdout",
     "output_type": "stream",
     "text": [
      "['apple', 'banana', 'mango', 'orange']\n",
      "{'green', 'red'}\n",
      "Math\n"
     ]
    }
   ],
   "source": [
    "# List\n",
    "fruits = [\"apple\", \"banana\", \"mango\"]\n",
    "fruits.append(\"orange\")\n",
    "print(fruits)\n",
    "\n",
    "# Tuple (immutable)\n",
    "point = (2, 3)\n",
    "\n",
    "# Set (unique elements)\n",
    "colors = {\"red\", \"green\", \"red\"}\n",
    "print(colors)\n",
    "\n",
    "# Dictionary\n",
    "student = {\"name\": \"Vidhi\", \"age\": 24, \"stream\": \"Math\"}\n",
    "print(student[\"stream\"])\n"
   ]
  },
  {
   "cell_type": "markdown",
   "id": "fe7e9e8d",
   "metadata": {},
   "source": [
    "## 🔁 Conditionals and Loops"
   ]
  },
  {
   "cell_type": "code",
   "execution_count": 4,
   "id": "deda30f2",
   "metadata": {},
   "outputs": [
    {
     "name": "stdout",
     "output_type": "stream",
     "text": [
      "APPLE\n"
     ]
    }
   ],
   "source": [
    "for fruit in fruits:\n",
    "    if fruit.startswith(\"a\"):\n",
    "        print(fruit.upper())"
   ]
  },
  {
   "cell_type": "markdown",
   "id": "59a77182",
   "metadata": {},
   "source": [
    "## 🧹 List Comprehensions"
   ]
  },
  {
   "cell_type": "code",
   "execution_count": 5,
   "id": "cdd5ff04",
   "metadata": {},
   "outputs": [
    {
     "name": "stdout",
     "output_type": "stream",
     "text": [
      "[4, 16, 36, 64, 100]\n",
      "[1, 27, 125, 343, 729]\n"
     ]
    }
   ],
   "source": [
    "squares = [x**2 for x in range(1, 11) if x % 2 == 0]\n",
    "print(squares)\n",
    "cubes=[y**3 for y in range (1,11) if y%2==1]\n",
    "print(cubes)"
   ]
  },
  {
   "cell_type": "markdown",
   "id": "b177432c",
   "metadata": {},
   "source": [
    "## ⚙️ Functions and Lambda Expressions"
   ]
  },
  {
   "cell_type": "code",
   "execution_count": 6,
   "id": "5a57f548",
   "metadata": {},
   "outputs": [
    {
     "name": "stdout",
     "output_type": "stream",
     "text": [
      "Hello, Vidhi!\n",
      "25\n"
     ]
    }
   ],
   "source": [
    "def greet(name):\n",
    "    return f\"Hello, {name}!\"\n",
    "\n",
    "print(greet(\"Vidhi\"))\n",
    "\n",
    "# Lambda\n",
    "square = lambda x: x * x\n",
    "print(square(5))\n"
   ]
  },
  {
   "cell_type": "markdown",
   "id": "fe8b7629",
   "metadata": {},
   "source": [
    "## 📁 Reading & Writing Files (Text/JSON/CSV)"
   ]
  },
  {
   "cell_type": "code",
   "execution_count": 7,
   "id": "6750877c",
   "metadata": {},
   "outputs": [
    {
     "name": "stdout",
     "output_type": "stream",
     "text": [
      "This is a test file.\n",
      "This is written by Vidhi\n"
     ]
    }
   ],
   "source": [
    "# Write to a file\n",
    "with open(\"test.txt\", \"w\") as f:\n",
    "    f.write(\"This is a test file.\\n\")\n",
    "    f.write(\"This is written by Vidhi\")\n",
    "\n",
    "# Read from file\n",
    "with open(\"test.txt\", \"r\") as f:\n",
    "    print(f.read())"
   ]
  },
  {
   "cell_type": "markdown",
   "id": "8d54ae33",
   "metadata": {},
   "source": [
    "## ✅ Mini Task: Create and Analyze Your Own Data\n",
    "\n",
    "- Create a dictionary of students with name, marks, subject\n",
    "- Convert it into a list of dictionaries\n",
    "- Use a loop to print average marks\n",
    "- Save the data to a JSON file using `json.dump`\n"
   ]
  },
  {
   "cell_type": "code",
   "execution_count": 9,
   "id": "51d89919",
   "metadata": {},
   "outputs": [
    {
     "name": "stdout",
     "output_type": "stream",
     "text": [
      "Student Dictionary: {'name': 'Vidhi', 'course': 'Data Science', 'completed': True, 'marks': [88, 92, 79]}\n",
      "Data saved to student_data.json\n",
      "Loaded Data: {'name': 'Vidhi', 'course': 'Data Science', 'completed': True, 'marks': [88, 92, 79]}\n"
     ]
    }
   ],
   "source": [
    "import json\n",
    "# Create a dictionary\n",
    "student = {\n",
    "    \"name\": \"Vidhi\",\n",
    "    \"course\": \"Data Science\",\n",
    "    \"completed\": True,\n",
    "    \"marks\": [88, 92, 79]\n",
    "}\n",
    "\n",
    "# Print dictionary\n",
    "print(\"Student Dictionary:\", student)\n",
    "\n",
    "# Save dictionary to a JSON file\n",
    "with open(\"student_data.json\", \"w\") as f:\n",
    "    json.dump(student, f, indent=4)\n",
    "\n",
    "print(\"Data saved to student_data.json\")\n",
    "# Load dictionary from JSON file\n",
    "with open(\"student_data.json\", \"r\") as f:\n",
    "    loaded_data = json.load(f)\n",
    "\n",
    "print(\"Loaded Data:\", loaded_data)\n"
   ]
  },
  {
   "cell_type": "code",
   "execution_count": 11,
   "id": "07b6d28e",
   "metadata": {},
   "outputs": [
    {
     "name": "stdout",
     "output_type": "stream",
     "text": [
      "{'name': 'Vidhi', 'Course': 'Data Science', 'Status': 'Ongoing', 'Topics': ['Data Types and Variables', 'Lists, Sets, Tupls and Dictionary', 'Conditionals and loops', 'List Comprehensions', 'Functions and Lambda expressions', 'Reading and writing files']}\n",
      "Day 1 work saved in todays_work.json\n",
      "Todays work : {'name': 'Vidhi', 'Course': 'Data Science', 'Status': 'Ongoing', 'Topics': ['Data Types and Variables', 'Lists, Sets, Tupls and Dictionary', 'Conditionals and loops', 'List Comprehensions', 'Functions and Lambda expressions', 'Reading and writing files']}\n"
     ]
    }
   ],
   "source": [
    "todays_work={\n",
    "    \"name\":\"Vidhi\",\n",
    "    \"Course\":\"Data Science\",\n",
    "    \"Status\":\"Ongoing\",\n",
    "    \"Topics\":[\"Data Types and Variables\",\"Lists, Sets, Tupls and Dictionary\",\"Conditionals and loops\",\"List Comprehensions\",\"Functions and Lambda expressions\",\n",
    "              \"Reading and writing files\",]\n",
    "\n",
    "}\n",
    "print(todays_work)\n",
    "with open(\"day1_summary.json\",\"w\") as f:\n",
    "    json.dump(todays_work,f , indent=4)\n",
    "\n",
    "print(\"Day 1 work saved in todays_work.json\")\n",
    "with open(\"day1_summary.json\",\"r\") as f:\n",
    "    todays_data=json.load(f)\n",
    "\n",
    "print(\"Todays work :\",todays_data)"
   ]
  }
 ],
 "metadata": {
  "kernelspec": {
   "display_name": "Python 3",
   "language": "python",
   "name": "python3"
  },
  "language_info": {
   "codemirror_mode": {
    "name": "ipython",
    "version": 3
   },
   "file_extension": ".py",
   "mimetype": "text/x-python",
   "name": "python",
   "nbconvert_exporter": "python",
   "pygments_lexer": "ipython3",
   "version": "3.13.4"
  }
 },
 "nbformat": 4,
 "nbformat_minor": 5
}
