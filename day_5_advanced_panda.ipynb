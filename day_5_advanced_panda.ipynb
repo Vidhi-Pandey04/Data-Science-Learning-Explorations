{
 "cells": [
  {
   "cell_type": "markdown",
   "id": "4e9140d1",
   "metadata": {},
   "source": [
    "# Advanced panda for data wrangling"
   ]
  },
  {
   "cell_type": "code",
   "execution_count": 1,
   "id": "43631254",
   "metadata": {},
   "outputs": [],
   "source": [
    "import pandas as pd\n",
    "import numpy as np"
   ]
  },
  {
   "cell_type": "code",
   "execution_count": 5,
   "id": "e1ef51e0",
   "metadata": {},
   "outputs": [
    {
     "name": "stdout",
     "output_type": "stream",
     "text": [
      "    Name    Subject  Marks   Age\n",
      "0  Vidhi       Math   88.0  24.0\n",
      "1  Aryan    Physics   79.0   NaN\n",
      "2   Neha  Chemistry    NaN  22.0\n",
      "3    Raj       Math   85.0  25.0\n",
      "4    NaN         CS   95.0  21.0\n",
      "5  Manav    Biology   67.0  22.0\n"
     ]
    }
   ],
   "source": [
    "data = {\n",
    "    \"Name\": [\"Vidhi\", \"Aryan\", \"Neha\", \"Raj\", np.nan, \"Manav\"],\n",
    "    \"Subject\": [\"Math\", \"Physics\", \"Chemistry\", \"Math\", \"CS\", \"Biology\"],\n",
    "    \"Marks\": [88, 79, np.nan, 85, 95, 67],\n",
    "    \"Age\": [24, np.nan, 22, 25, 21, 22]\n",
    "}\n",
    "\n",
    "df = pd.DataFrame(data)\n",
    "print(df)"
   ]
  },
  {
   "cell_type": "code",
   "execution_count": 6,
   "id": "fce9fbbd",
   "metadata": {},
   "outputs": [
    {
     "name": "stdout",
     "output_type": "stream",
     "text": [
      "    Name  Subject  Marks    Age\n",
      "0  False    False  False  False\n",
      "1  False    False  False   True\n",
      "2  False    False   True  False\n",
      "3  False    False  False  False\n",
      "4   True    False  False  False\n",
      "5  False    False  False  False\n",
      "Name       1\n",
      "Subject    0\n",
      "Marks      1\n",
      "Age        1\n",
      "dtype: int64\n"
     ]
    }
   ],
   "source": [
    "print(df.isnull())       # Boolean mask\n",
    "print(df.isnull().sum()) # Count nulls in each column"
   ]
  },
  {
   "cell_type": "markdown",
   "id": "37ea8c1e",
   "metadata": {},
   "source": [
    "df_clean = df.dropna()              # Drop rows with ANY nulls\n",
    "df_no_age = df.drop(\"Age\", axis=1)  # Drop specific column"
   ]
  },
  {
   "cell_type": "code",
   "execution_count": 7,
   "id": "a873f717",
   "metadata": {},
   "outputs": [
    {
     "name": "stderr",
     "output_type": "stream",
     "text": [
      "C:\\Users\\Pandey's\\AppData\\Local\\Temp\\ipykernel_15216\\2271392601.py:1: FutureWarning: A value is trying to be set on a copy of a DataFrame or Series through chained assignment using an inplace method.\n",
      "The behavior will change in pandas 3.0. This inplace method will never work because the intermediate object on which we are setting values always behaves as a copy.\n",
      "\n",
      "For example, when doing 'df[col].method(value, inplace=True)', try using 'df.method({col: value}, inplace=True)' or df[col] = df[col].method(value) instead, to perform the operation inplace on the original object.\n",
      "\n",
      "\n",
      "  df[\"Marks\"].fillna(df[\"Marks\"].mean(), inplace=True)  # Fill with mean\n",
      "C:\\Users\\Pandey's\\AppData\\Local\\Temp\\ipykernel_15216\\2271392601.py:2: FutureWarning: A value is trying to be set on a copy of a DataFrame or Series through chained assignment using an inplace method.\n",
      "The behavior will change in pandas 3.0. This inplace method will never work because the intermediate object on which we are setting values always behaves as a copy.\n",
      "\n",
      "For example, when doing 'df[col].method(value, inplace=True)', try using 'df.method({col: value}, inplace=True)' or df[col] = df[col].method(value) instead, to perform the operation inplace on the original object.\n",
      "\n",
      "\n",
      "  df[\"Age\"].fillna(0, inplace=True)                     # Fill with 0\n",
      "C:\\Users\\Pandey's\\AppData\\Local\\Temp\\ipykernel_15216\\2271392601.py:3: FutureWarning: A value is trying to be set on a copy of a DataFrame or Series through chained assignment using an inplace method.\n",
      "The behavior will change in pandas 3.0. This inplace method will never work because the intermediate object on which we are setting values always behaves as a copy.\n",
      "\n",
      "For example, when doing 'df[col].method(value, inplace=True)', try using 'df.method({col: value}, inplace=True)' or df[col] = df[col].method(value) instead, to perform the operation inplace on the original object.\n",
      "\n",
      "\n",
      "  df[\"Name\"].fillna(\"Unknown\", inplace=True)\n"
     ]
    }
   ],
   "source": [
    "df[\"Marks\"].fillna(df[\"Marks\"].mean(), inplace=True)  # Fill with mean\n",
    "df[\"Age\"].fillna(0, inplace=True)                     # Fill with 0\n",
    "df[\"Name\"].fillna(\"Unknown\", inplace=True)"
   ]
  },
  {
   "cell_type": "code",
   "execution_count": 8,
   "id": "774b0d7b",
   "metadata": {},
   "outputs": [
    {
     "name": "stdout",
     "output_type": "stream",
     "text": [
      "Average marks by subject:\n",
      " Subject\n",
      "Biology      67.0\n",
      "CS           95.0\n",
      "Chemistry    82.8\n",
      "Math         86.5\n",
      "Physics      79.0\n",
      "Name: Marks, dtype: float64\n"
     ]
    }
   ],
   "source": [
    "grouped = df.groupby(\"Subject\")[\"Marks\"].mean()\n",
    "print(\"Average marks by subject:\\n\", grouped)"
   ]
  },
  {
   "cell_type": "code",
   "execution_count": 9,
   "id": "f959d9ab",
   "metadata": {},
   "outputs": [
    {
     "name": "stdout",
     "output_type": "stream",
     "text": [
      "          Marks               Age\n",
      "           mean   max   min  mean\n",
      "Subject                          \n",
      "Biology    67.0  67.0  67.0  22.0\n",
      "CS         95.0  95.0  95.0  21.0\n",
      "Chemistry  82.8  82.8  82.8  22.0\n",
      "Math       86.5  88.0  85.0  24.5\n",
      "Physics    79.0  79.0  79.0   0.0\n"
     ]
    }
   ],
   "source": [
    "agg_df = df.groupby(\"Subject\").agg({\n",
    "    \"Marks\": [\"mean\", \"max\", \"min\"],\n",
    "    \"Age\": \"mean\"\n",
    "})\n",
    "print(agg_df)"
   ]
  },
  {
   "cell_type": "code",
   "execution_count": 16,
   "id": "40ff7cff",
   "metadata": {},
   "outputs": [],
   "source": [
    "data1 = {\n",
    "    \"ID\": [1, 2, 3],\n",
    "    \"Name\": [\"Vidhi\", \"Aryan\", \"Neha\"]\n",
    "}\n",
    "data2 = {\n",
    "    \"ID\": [1, 2, 3],\n",
    "    \"Score\": [88, 92, 75]\n",
    "}"
   ]
  },
  {
   "cell_type": "code",
   "execution_count": 11,
   "id": "a29edab8",
   "metadata": {},
   "outputs": [
    {
     "name": "stdout",
     "output_type": "stream",
     "text": [
      "      Name    Subject  Marks   Age\n",
      "0    Vidhi       Math   88.0  24.0\n",
      "1    Aryan    Physics   79.0   0.0\n",
      "2     Neha  Chemistry   82.8  22.0\n",
      "3      Raj       Math   85.0  25.0\n",
      "4  Unknown         CS   95.0  21.0\n",
      "5    Manav    Biology   67.0  22.0\n"
     ]
    }
   ],
   "source": [
    "df_top = df.head(3)\n",
    "df_bottom = df.tail(3)\n",
    "combined = pd.concat([df_top, df_bottom])\n",
    "print(combined)"
   ]
  },
  {
   "cell_type": "code",
   "execution_count": 14,
   "id": "38c7cdb8",
   "metadata": {},
   "outputs": [
    {
     "name": "stdout",
     "output_type": "stream",
     "text": [
      "After adding pass column the file now is :       Name    Subject  Marks   Age   Pass\n",
      "0    Vidhi       Math   88.0  24.0   True\n",
      "1    Aryan    Physics   79.0   0.0   True\n",
      "2     Neha  Chemistry   82.8  22.0   True\n",
      "3      Raj       Math   85.0  25.0   True\n",
      "4  Unknown         CS   95.0  21.0   True\n",
      "5    Manav    Biology   67.0  22.0  False\n",
      "\n",
      " Average marks and age subjectwise is : \n",
      "            Marks   Age\n",
      "Subject               \n",
      "Biology     67.0  22.0\n",
      "CS          95.0  21.0\n",
      "Chemistry   82.8  22.0\n",
      "Math        86.5  24.5\n",
      "Physics     79.0   0.0\n"
     ]
    }
   ],
   "source": [
    "df[\"Pass\"]=df[\"Marks\"]>75\n",
    "print(\"After adding pass column the file now is :\",df)\n",
    "agg_df = df.groupby(\"Subject\").agg({\n",
    "    \"Marks\": \"mean\",\n",
    "    \"Age\": \"mean\"\n",
    "})\n",
    "print(\"\\n Average marks and age subjectwise is : \\n\",agg_df)"
   ]
  },
  {
   "cell_type": "code",
   "execution_count": 15,
   "id": "36cce88b",
   "metadata": {},
   "outputs": [],
   "source": [
    "df.to_csv(\"cleaned_students_data.csv\", index=False)"
   ]
  },
  {
   "cell_type": "code",
   "execution_count": 25,
   "id": "d12984ef",
   "metadata": {},
   "outputs": [
    {
     "name": "stdout",
     "output_type": "stream",
     "text": [
      "Merged data is: \n",
      "    ID   Name  Age      Status\n",
      "0   1  Vidhi   21  Unemployed\n",
      "1   2    Raj   22    Employed\n"
     ]
    }
   ],
   "source": [
    "mini_data1={\n",
    "    \"ID\":[1,2],\n",
    "    \"Name\":[\"Vidhi\",\"Raj\"],\n",
    "    \"Age\":[21,22]\n",
    "}\n",
    "mini_data2={\n",
    "    \"ID\":[1,2],\n",
    "    \"Status\":[\"Unemployed\",\"Employed\"]\n",
    "}\n",
    "df1=pd.DataFrame(mini_data1)\n",
    "df2=pd.DataFrame(mini_data2)\n",
    "merged= pd.merge(df1,df2, on=\"ID\")\n",
    "print(\"Merged data is: \\n\", merged)\n"
   ]
  },
  {
   "cell_type": "code",
   "execution_count": null,
   "id": "7124c71e",
   "metadata": {},
   "outputs": [],
   "source": []
  }
 ],
 "metadata": {
  "kernelspec": {
   "display_name": "Python 3",
   "language": "python",
   "name": "python3"
  },
  "language_info": {
   "codemirror_mode": {
    "name": "ipython",
    "version": 3
   },
   "file_extension": ".py",
   "mimetype": "text/x-python",
   "name": "python",
   "nbconvert_exporter": "python",
   "pygments_lexer": "ipython3",
   "version": "3.13.4"
  }
 },
 "nbformat": 4,
 "nbformat_minor": 5
}
