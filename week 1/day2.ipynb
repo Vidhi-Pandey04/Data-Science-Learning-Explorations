{
 "cells": [
  {
   "cell_type": "markdown",
   "id": "00c6e832",
   "metadata": {},
   "source": [
    "# 🔢 NumPy Basics – Day 2 of Data Science Journey\n",
    "\n",
    "**Author:** Vidhi Pandey  \n",
    "**Date:** June 2025  \n",
    "**Goal:** Learn NumPy arrays, indexing, vectorized operations, reshaping, broadcasting, and basic stats functions.\n"
   ]
  },
  {
   "cell_type": "code",
   "execution_count": 1,
   "id": "9e6eaabd",
   "metadata": {},
   "outputs": [],
   "source": [
    "import numpy as np"
   ]
  },
  {
   "cell_type": "code",
   "execution_count": 2,
   "id": "7bb3b627",
   "metadata": {},
   "outputs": [
    {
     "name": "stdout",
     "output_type": "stream",
     "text": [
      "1D Array: [1 2 3 4]\n",
      "2D Array:\n",
      " [[1 2 3]\n",
      " [4 5 6]]\n"
     ]
    }
   ],
   "source": [
    "# 1D Array\n",
    "arr1 = np.array([1, 2, 3, 4])\n",
    "print(\"1D Array:\", arr1)\n",
    "\n",
    "# 2D Array\n",
    "arr2 = np.array([[1, 2, 3], [4, 5, 6]])\n",
    "print(\"2D Array:\\n\", arr2)\n"
   ]
  },
  {
   "cell_type": "code",
   "execution_count": 3,
   "id": "b691d4e3",
   "metadata": {},
   "outputs": [
    {
     "name": "stdout",
     "output_type": "stream",
     "text": [
      "Shape: (2, 3)\n",
      "Data Type: int64\n",
      "Size: 6\n",
      "Dimensions: 2\n"
     ]
    }
   ],
   "source": [
    "print(\"Shape:\", arr2.shape)\n",
    "print(\"Data Type:\", arr2.dtype)\n",
    "print(\"Size:\", arr2.size)\n",
    "print(\"Dimensions:\", arr2.ndim)"
   ]
  },
  {
   "cell_type": "code",
   "execution_count": 4,
   "id": "d24b8bc5",
   "metadata": {},
   "outputs": [
    {
     "name": "stdout",
     "output_type": "stream",
     "text": [
      "Addition: [5 7 9]\n",
      "Multiplication: [ 4 10 18]\n",
      "Dot Product: 32\n"
     ]
    }
   ],
   "source": [
    "a = np.array([1, 2, 3])\n",
    "b = np.array([4, 5, 6])\n",
    "\n",
    "print(\"Addition:\", a + b)\n",
    "print(\"Multiplication:\", a * b)\n",
    "print(\"Dot Product:\", np.dot(a, b))"
   ]
  },
  {
   "cell_type": "code",
   "execution_count": 5,
   "id": "f03f607b",
   "metadata": {},
   "outputs": [
    {
     "name": "stdout",
     "output_type": "stream",
     "text": [
      "Element at (0,1): 20\n",
      "First row: [10 20 30]\n",
      "First column: [10 40]\n"
     ]
    }
   ],
   "source": [
    "arr = np.array([[10, 20, 30], [40, 50, 60]])\n",
    "\n",
    "print(\"Element at (0,1):\", arr[0, 1])\n",
    "print(\"First row:\", arr[0])\n",
    "print(\"First column:\", arr[:, 0])"
   ]
  },
  {
   "cell_type": "code",
   "execution_count": 6,
   "id": "53295bd4",
   "metadata": {},
   "outputs": [
    {
     "name": "stdout",
     "output_type": "stream",
     "text": [
      "Reshaped:\n",
      " [[ 0  1  2  3]\n",
      " [ 4  5  6  7]\n",
      " [ 8  9 10 11]]\n",
      "Flattened: [ 0  1  2  3  4  5  6  7  8  9 10 11]\n"
     ]
    }
   ],
   "source": [
    "arr = np.arange(12)  # Creates array [0 to 11]\n",
    "reshaped = arr.reshape(3, 4)\n",
    "print(\"Reshaped:\\n\", reshaped)\n",
    "\n",
    "flattened = reshaped.flatten()\n",
    "print(\"Flattened:\", flattened)"
   ]
  },
  {
   "cell_type": "code",
   "execution_count": 7,
   "id": "0d045955",
   "metadata": {},
   "outputs": [
    {
     "name": "stdout",
     "output_type": "stream",
     "text": [
      "Sum: 10\n",
      "Mean: 2.5\n",
      "Standard Deviation: 1.118033988749895\n",
      "Max: 4\n",
      "Min: 1\n"
     ]
    }
   ],
   "source": [
    "arr = np.array([[1, 2], [3, 4]])\n",
    "\n",
    "print(\"Sum:\", arr.sum())\n",
    "print(\"Mean:\", arr.mean())\n",
    "print(\"Standard Deviation:\", arr.std())\n",
    "print(\"Max:\", arr.max())\n",
    "print(\"Min:\", arr.min())"
   ]
  },
  {
   "cell_type": "code",
   "execution_count": 8,
   "id": "f9107ef7",
   "metadata": {},
   "outputs": [
    {
     "name": "stdout",
     "output_type": "stream",
     "text": [
      "Random Integers:\n",
      " [[2 2 2]\n",
      " [8 5 2]\n",
      " [9 2 2]]\n",
      "Zeros:\n",
      " [[0. 0.]\n",
      " [0. 0.]]\n",
      "Ones:\n",
      " [[1. 1.]\n",
      " [1. 1.]]\n",
      "Identity:\n",
      " [[1. 0. 0.]\n",
      " [0. 1. 0.]\n",
      " [0. 0. 1.]]\n"
     ]
    }
   ],
   "source": [
    "print(\"Random Integers:\\n\", np.random.randint(1, 10, (3, 3)))\n",
    "print(\"Zeros:\\n\", np.zeros((2, 2)))\n",
    "print(\"Ones:\\n\", np.ones((2, 2)))\n",
    "print(\"Identity:\\n\", np.eye(3))"
   ]
  },
  {
   "cell_type": "code",
   "execution_count": 14,
   "id": "2ecfd97b",
   "metadata": {},
   "outputs": [
    {
     "name": "stdout",
     "output_type": "stream",
     "text": [
      "Reshaped:\n",
      " [[ 1  2  3  4  5]\n",
      " [ 6  7  8  9 10]\n",
      " [11 12 13 14 15]\n",
      " [16 17 18 19 20]\n",
      " [21 22 23 24 25]]\n",
      "Even Numbers in array :  [ 2  4  6  8 10 12 14 16 18 20 22 24]\n",
      "sum of 1 row is :  15\n",
      "Maximum number of 1 colimn is :  21\n",
      "sum of 2 row is :  40\n",
      "Maximum number of 2 colimn is :  22\n",
      "sum of 3 row is :  65\n",
      "Maximum number of 3 colimn is :  23\n",
      "sum of 4 row is :  90\n",
      "Maximum number of 4 colimn is :  24\n",
      "sum of 5 row is :  115\n",
      "Maximum number of 5 colimn is :  25\n"
     ]
    }
   ],
   "source": [
    "# Create a 5x5 array with values from 1 to 25\n",
    "# Reshape it, and print:\n",
    "# - Even numbers only\n",
    "# - Sum of each row\n",
    "# - Maximum in each column\n",
    "\n",
    "# Hint:\n",
    "# arr[arr % 2 == 0] gives even numbers\n",
    "\n",
    "arr = np.arange(1,26)\n",
    "reshaped=arr.reshape(5,5)\n",
    "print(\"Reshaped:\\n\", reshaped)\n",
    "print(\"Even Numbers in array : \",arr[arr%2==0])\n",
    "\n",
    "for i in range(5):\n",
    "    print(f\"sum of {i+1} row is : \", reshaped[i].sum())\n",
    "    print(f\"Maximum number of {i+1} colimn is : \",reshaped[:,i].max())\n",
    "\n",
    "\n",
    "\n",
    "\n",
    "\n"
   ]
  },
  {
   "cell_type": "code",
   "execution_count": 1,
   "id": "3fba5098",
   "metadata": {},
   "outputs": [
    {
     "name": "stdout",
     "output_type": "stream",
     "text": [
      "a + b = [11 22 33]\n",
      "a * 2 = [2 4 6]\n",
      "a squared = [1 4 9]\n"
     ]
    }
   ],
   "source": [
    "# Vectorized operations\n",
    "import numpy as np\n",
    "\n",
    "a = np.array([1, 2, 3])\n",
    "b = np.array([10, 20, 30])\n",
    "\n",
    "# Vectorized addition\n",
    "print(\"a + b =\", a + b)\n",
    "\n",
    "# Multiply each element by 2\n",
    "print(\"a * 2 =\", a * 2)\n",
    "\n",
    "# Element-wise square\n",
    "print(\"a squared =\", a ** 2)"
   ]
  },
  {
   "cell_type": "markdown",
   "id": "68a6e7c5",
   "metadata": {},
   "source": [
    "# Broadcasting array"
   ]
  },
  {
   "cell_type": "code",
   "execution_count": 2,
   "id": "78d943b0",
   "metadata": {},
   "outputs": [
    {
     "name": "stdout",
     "output_type": "stream",
     "text": [
      "a + 5 = [6 7 8]\n",
      "A + b =\n",
      " [[11 22 33]\n",
      " [14 25 36]]\n"
     ]
    }
   ],
   "source": [
    "# Broadcasting a scalar\n",
    "a = np.array([1, 2, 3])\n",
    "print(\"a + 5 =\", a + 5)  # adds 5 to every element\n",
    "\n",
    "# 2D and 1D example\n",
    "A = np.array([[1, 2, 3],\n",
    "              [4, 5, 6]])\n",
    "b = np.array([10, 20, 30])\n",
    "\n",
    "print(\"A + b =\\n\", A + b)  # adds b to each row\n"
   ]
  },
  {
   "cell_type": "markdown",
   "id": "eab79804",
   "metadata": {},
   "source": [
    "# Common statistical Functions"
   ]
  },
  {
   "cell_type": "code",
   "execution_count": 3,
   "id": "aa734784",
   "metadata": {},
   "outputs": [
    {
     "name": "stdout",
     "output_type": "stream",
     "text": [
      "Array: [5 2 9 1 7]\n",
      "Mean: 4.8\n",
      "Standard Deviation: 2.9933259094191533\n",
      "Variance: 8.96\n",
      "Sum: 24\n",
      "Max: 9 at index 2\n",
      "Min: 1 at index 3\n",
      "75th Percentile: 7.0\n",
      "Median: 5.0\n"
     ]
    }
   ],
   "source": [
    "arr = np.array([5, 2, 9, 1, 7])\n",
    "\n",
    "print(\"Array:\", arr)\n",
    "print(\"Mean:\", np.mean(arr))\n",
    "print(\"Standard Deviation:\", np.std(arr))\n",
    "print(\"Variance:\", np.var(arr))\n",
    "print(\"Sum:\", np.sum(arr))\n",
    "print(\"Max:\", np.max(arr), \"at index\", np.argmax(arr))\n",
    "print(\"Min:\", np.min(arr), \"at index\", np.argmin(arr))\n",
    "print(\"75th Percentile:\", np.percentile(arr, 75))\n",
    "print(\"Median:\", np.median(arr))"
   ]
  },
  {
   "cell_type": "markdown",
   "id": "c64d4951",
   "metadata": {},
   "source": [
    "# useful numpy generators"
   ]
  },
  {
   "cell_type": "code",
   "execution_count": 4,
   "id": "ba7a0715",
   "metadata": {},
   "outputs": [
    {
     "name": "stdout",
     "output_type": "stream",
     "text": [
      "Random integers (2x3):\n",
      " [[16 54 31]\n",
      " [ 7 81 72]]\n",
      "Random floats:\n",
      " [[0.61275224 0.32281305]\n",
      " [0.25577276 0.37810637]]\n",
      "Normal dist (mean=0, std=1):\n",
      " [[-1.40243316  0.93773719]\n",
      " [-0.86203372 -0.25004326]]\n"
     ]
    }
   ],
   "source": [
    "print(\"Random integers (2x3):\\n\", np.random.randint(1, 100, (2, 3)))\n",
    "print(\"Random floats:\\n\", np.random.rand(2, 2))  # Uniform [0,1)\n",
    "print(\"Normal dist (mean=0, std=1):\\n\", np.random.randn(2, 2))"
   ]
  },
  {
   "cell_type": "code",
   "execution_count": 5,
   "id": "d194f874",
   "metadata": {},
   "outputs": [
    {
     "name": "stdout",
     "output_type": "stream",
     "text": [
      "Mean: 0.004587700757756518\n",
      "Standard Deviation: 0.9897827858470163\n"
     ]
    }
   ],
   "source": [
    "# Generate an array of 1000 values from normal distribution\n",
    "data = np.random.randn(1000)\n",
    "\n",
    "# Print mean and standard deviation\n",
    "print(\"Mean:\", np.mean(data))\n",
    "print(\"Standard Deviation:\", np.std(data))\n"
   ]
  },
  {
   "cell_type": "code",
   "execution_count": null,
   "id": "16f47dab",
   "metadata": {},
   "outputs": [],
   "source": []
  }
 ],
 "metadata": {
  "kernelspec": {
   "display_name": "Python 3",
   "language": "python",
   "name": "python3"
  },
  "language_info": {
   "codemirror_mode": {
    "name": "ipython",
    "version": 3
   },
   "file_extension": ".py",
   "mimetype": "text/x-python",
   "name": "python",
   "nbconvert_exporter": "python",
   "pygments_lexer": "ipython3",
   "version": "3.13.4"
  }
 },
 "nbformat": 4,
 "nbformat_minor": 5
}
