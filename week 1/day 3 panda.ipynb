{
 "cells": [
  {
   "cell_type": "markdown",
   "id": "71cbe065",
   "metadata": {},
   "source": [
    "# 🐼 Pandas Basics – Day 3 of Data Science Journey\n",
    "\n",
    "**Author:** Vidhi Pandey  \n",
    "**Date:** June 2025  \n",
    "**Goal:** Learn Series, DataFrames, indexing, importing data, and basic data exploration.\n"
   ]
  },
  {
   "cell_type": "code",
   "execution_count": 1,
   "id": "ac90525c",
   "metadata": {},
   "outputs": [],
   "source": [
    "import pandas as pd\n",
    "import numpy as np"
   ]
  },
  {
   "cell_type": "markdown",
   "id": "f9714c7f",
   "metadata": {},
   "source": [
    "## 📌 What is a Pandas Series?\n",
    "\n",
    "A Series is a one-dimensional labeled array — similar to a column in Excel. It holds data and an index.\n"
   ]
  },
  {
   "cell_type": "code",
   "execution_count": 2,
   "id": "9174b85e",
   "metadata": {},
   "outputs": [
    {
     "name": "stdout",
     "output_type": "stream",
     "text": [
      "Marks Series:\n",
      "Math         85\n",
      "Physics      92\n",
      "Chemistry    78\n",
      "CS           90\n",
      "dtype: int64\n",
      "\n",
      "Physics Marks: 92\n"
     ]
    }
   ],
   "source": [
    "# Create a Series from a list\n",
    "marks = pd.Series([85, 92, 78, 90], index=[\"Math\", \"Physics\", \"Chemistry\", \"CS\"])\n",
    "print(\"Marks Series:\")\n",
    "print(marks)\n",
    "\n",
    "# Accessing elements\n",
    "print(\"\\nPhysics Marks:\", marks[\"Physics\"])"
   ]
  },
  {
   "cell_type": "markdown",
   "id": "4ba36cce",
   "metadata": {},
   "source": [
    "## 📊 What is a DataFrame?\n",
    "\n",
    "A DataFrame is a 2D labeled data structure — similar to an Excel sheet or SQL table.  \n",
    "It has rows and columns, and can hold different data types.\n"
   ]
  },
  {
   "cell_type": "code",
   "execution_count": 5,
   "id": "8b1b74f1",
   "metadata": {},
   "outputs": [
    {
     "name": "stdout",
     "output_type": "stream",
     "text": [
      "Student DataFrame:\n",
      "    Name  Age  Score\n",
      "0  Vidhi   24     88\n",
      "1  Aryan   22     92\n",
      "2   Neha   23     85\n",
      "3    Raj   25     90\n"
     ]
    }
   ],
   "source": [
    "# Create a DataFrame using dictionary\n",
    "data = {\n",
    "    \"Name\": [\"Vidhi\", \"Aryan\", \"Neha\", \"Raj\"],\n",
    "    \"Age\": [24, 22, 23, 25],\n",
    "    \"Score\": [88, 92, 85,90]\n",
    "}\n",
    "\n",
    "df = pd.DataFrame(data)\n",
    "print(\"Student DataFrame:\")\n",
    "print(df)"
   ]
  },
  {
   "cell_type": "code",
   "execution_count": 6,
   "id": "28fbffff",
   "metadata": {},
   "outputs": [
    {
     "name": "stdout",
     "output_type": "stream",
     "text": [
      "\n",
      "Head (First 2 rows):\n",
      "    Name  Age  Score\n",
      "0  Vidhi   24     88\n",
      "1  Aryan   22     92\n",
      "\n",
      "Info:\n",
      "<class 'pandas.core.frame.DataFrame'>\n",
      "RangeIndex: 4 entries, 0 to 3\n",
      "Data columns (total 3 columns):\n",
      " #   Column  Non-Null Count  Dtype \n",
      "---  ------  --------------  ----- \n",
      " 0   Name    4 non-null      object\n",
      " 1   Age     4 non-null      int64 \n",
      " 2   Score   4 non-null      int64 \n",
      "dtypes: int64(2), object(1)\n",
      "memory usage: 228.0+ bytes\n",
      "None\n",
      "\n",
      "Describe:\n",
      "             Age      Score\n",
      "count   4.000000   4.000000\n",
      "mean   23.500000  88.750000\n",
      "std     1.290994   2.986079\n",
      "min    22.000000  85.000000\n",
      "25%    22.750000  87.250000\n",
      "50%    23.500000  89.000000\n",
      "75%    24.250000  90.500000\n",
      "max    25.000000  92.000000\n"
     ]
    }
   ],
   "source": [
    "# First 2 rows\n",
    "print(\"\\nHead (First 2 rows):\")\n",
    "print(df.head(2))\n",
    "\n",
    "# Info about the DataFrame\n",
    "print(\"\\nInfo:\")\n",
    "print(df.info())\n",
    "\n",
    "# Summary statistics\n",
    "print(\"\\nDescribe:\")\n",
    "print(df.describe())"
   ]
  },
  {
   "cell_type": "code",
   "execution_count": 7,
   "id": "91012472",
   "metadata": {},
   "outputs": [
    {
     "name": "stdout",
     "output_type": "stream",
     "text": [
      "Name column:\n",
      " 0    Vidhi\n",
      "1    Aryan\n",
      "2     Neha\n",
      "3      Raj\n",
      "Name: Name, dtype: object\n",
      "\n",
      "Students with Score > 85:\n",
      "     Name  Age  Score\n",
      "0  Vidhi   24     88\n",
      "1  Aryan   22     92\n",
      "3    Raj   25     90\n"
     ]
    }
   ],
   "source": [
    "# Accessing a column\n",
    "print(\"Name column:\\n\", df[\"Name\"])\n",
    "\n",
    "# Filter rows where Score > 85\n",
    "high_scores = df[df[\"Score\"] > 85]\n",
    "print(\"\\nStudents with Score > 85:\\n\", high_scores)"
   ]
  },
  {
   "cell_type": "code",
   "execution_count": 8,
   "id": "902cfda3",
   "metadata": {},
   "outputs": [
    {
     "name": "stdout",
     "output_type": "stream",
     "text": [
      "\n",
      "With Pass column:\n",
      "     Name  Age  Score  Pass\n",
      "0  Vidhi   24     88  True\n",
      "1  Aryan   22     92  True\n",
      "2   Neha   23     85  True\n",
      "3    Raj   25     90  True\n",
      "\n",
      "After updating and removing 'Pass' column:\n",
      "     Name  Age  Score\n",
      "0  Vidhi   25     88\n",
      "1  Aryan   22     92\n",
      "2   Neha   23     85\n",
      "3    Raj   25     90\n"
     ]
    }
   ],
   "source": [
    "# Add new column\n",
    "df[\"Pass\"] = df[\"Score\"] >= 80\n",
    "print(\"\\nWith Pass column:\\n\", df)\n",
    "\n",
    "# Update Age of a student\n",
    "df.loc[df[\"Name\"] == \"Vidhi\", \"Age\"] = 25\n",
    "\n",
    "# Drop a column\n",
    "df = df.drop(\"Pass\", axis=1)\n",
    "print(\"\\nAfter updating and removing 'Pass' column:\\n\", df)\n"
   ]
  },
  {
   "cell_type": "code",
   "execution_count": 9,
   "id": "ea57a4d7",
   "metadata": {},
   "outputs": [
    {
     "name": "stdout",
     "output_type": "stream",
     "text": [
      "Iris Dataset Head:\n",
      "   sepal_length  sepal_width  petal_length  petal_width species\n",
      "0           5.1          3.5           1.4          0.2  setosa\n",
      "1           4.9          3.0           1.4          0.2  setosa\n",
      "2           4.7          3.2           1.3          0.2  setosa\n",
      "3           4.6          3.1           1.5          0.2  setosa\n",
      "4           5.0          3.6           1.4          0.2  setosa\n"
     ]
    }
   ],
   "source": [
    "# Sample dataset from a URL\n",
    "url = \"https://raw.githubusercontent.com/mwaskom/seaborn-data/master/iris.csv\"\n",
    "\n",
    "iris = pd.read_csv(url)\n",
    "print(\"Iris Dataset Head:\")\n",
    "print(iris.head())"
   ]
  },
  {
   "cell_type": "code",
   "execution_count": 25,
   "id": "941e5e86",
   "metadata": {},
   "outputs": [
    {
     "name": "stdout",
     "output_type": "stream",
     "text": [
      "\n",
      "Head (First 3 rows):\n",
      "    Name  Age    Subject  Marks\n",
      "0  Vidhi   24       Math     88\n",
      "1  Aryan   23    Physics     79\n",
      "2   Neha   22  Chemistry     91\n",
      "\n",
      "Info:\n",
      "<class 'pandas.core.frame.DataFrame'>\n",
      "RangeIndex: 6 entries, 0 to 5\n",
      "Data columns (total 4 columns):\n",
      " #   Column   Non-Null Count  Dtype \n",
      "---  ------   --------------  ----- \n",
      " 0   Name     6 non-null      object\n",
      " 1   Age      6 non-null      int64 \n",
      " 2   Subject  6 non-null      object\n",
      " 3   Marks    6 non-null      int64 \n",
      "dtypes: int64(2), object(2)\n",
      "memory usage: 324.0+ bytes\n",
      "\n",
      "Describe:\n",
      "             Age      Marks\n",
      "count   6.000000   6.000000\n",
      "mean   22.833333  84.166667\n",
      "std     1.471960  10.008330\n",
      "min    21.000000  67.000000\n",
      "25%    22.000000  80.500000\n",
      "50%    22.500000  86.500000\n",
      "75%    23.750000  90.250000\n",
      "max    25.000000  95.000000\n",
      "\n",
      "With Grade column:\n",
      "     Name  Age    Subject  Marks Grade\n",
      "0  Vidhi   24       Math     88     B\n",
      "1  Aryan   23    Physics     79     C\n",
      "2   Neha   22  Chemistry     91     A\n",
      "3    Raj   25       Math     85     B\n",
      "4  Tanya   21         CS     95     A\n",
      "5  Manav   22    Biology     67     D\n",
      "\n",
      " Math students with marks > 85 are: \n",
      "     Name  Age Subject  Marks Grade\n",
      "0  Vidhi   24    Math     88     B\n",
      "\n",
      " After updating and removing 'Age' column:\n",
      "     Name  Age    Subject  Marks Grade\n",
      "0  Vidhi   24       Math     88     B\n",
      "1  Aryan   23    Physics     79     C\n",
      "2   Neha   22  Chemistry     91     A\n",
      "3    Raj   25       Math     85     B\n",
      "4  Tanya   21         CS     95     A\n",
      "5  Manav   22     Botany     67     D\n"
     ]
    }
   ],
   "source": [
    "import numpy as np\n",
    "import pandas as pd\n",
    "\n",
    "# Data\n",
    "data = {\n",
    "    \"Name\": [\"Vidhi\", \"Aryan\", \"Neha\", \"Raj\", \"Tanya\", \"Manav\"],\n",
    "    \"Age\": [24, 23, 22, 25, 21, 22],\n",
    "    \"Subject\": [\"Math\", \"Physics\", \"Chemistry\", \"Math\", \"CS\", \"Biology\"],\n",
    "    \"Marks\": [88, 79, 91, 85, 95, 67]\n",
    "}\n",
    "\n",
    "df = pd.DataFrame(data)\n",
    "\n",
    "# Display first 3 rows\n",
    "print(\"\\nHead (First 3 rows):\")\n",
    "print(df.head(3))\n",
    "\n",
    "# Info\n",
    "print(\"\\nInfo:\")\n",
    "df.info()  # Corrected\n",
    "\n",
    "# Describe\n",
    "print(\"\\nDescribe:\")\n",
    "print(df.describe())\n",
    "\n",
    "# Grade assignment\n",
    "conditions = [\n",
    "    (df[\"Marks\"] >= 90),\n",
    "    (df[\"Marks\"] >= 80) & (df[\"Marks\"] < 90),\n",
    "    (df[\"Marks\"] >= 70) & (df[\"Marks\"] < 80),\n",
    "    (df[\"Marks\"] < 70)\n",
    "]\n",
    "grades = [\"A\", \"B\", \"C\", \"D\"]\n",
    "df[\"Grade\"] = np.select(conditions, grades, default=\"NA\")\n",
    "\n",
    "# Final output\n",
    "print(\"\\nWith Grade column:\\n\", df)\n",
    "math_students=df[(df[\"Subject\"]==\"Math\") &( df[\"Marks\"]>85)]\n",
    "print(\"\\n Math students with marks > 85 are: \\n\", math_students)\n",
    "df.loc[df[\"Name\"] == \"Manav\", \"Subject\"] = \"Botany\"\n",
    "\n",
    "print(\"\\n After updating and removing 'Age' column:\\n\", df)\n",
    "df.to_csv(\"students_data.csv\", index=False)\n",
    "\n",
    "\n"
   ]
  },
  {
   "cell_type": "code",
   "execution_count": 26,
   "id": "d2f53f32",
   "metadata": {},
   "outputs": [
    {
     "name": "stdout",
     "output_type": "stream",
     "text": [
      "    Name  Age    Subject  Marks Grade\n",
      "0  Vidhi   24       Math     88     B\n",
      "1  Aryan   23    Physics     79     C\n",
      "2   Neha   22  Chemistry     91     A\n",
      "3    Raj   25       Math     85     B\n",
      "4  Tanya   21         CS     95     A\n",
      "5  Manav   22     Botany     67     D\n"
     ]
    }
   ],
   "source": [
    "new_df = pd.read_csv(\"students_data.csv\")\n",
    "print(new_df)"
   ]
  },
  {
   "cell_type": "code",
   "execution_count": null,
   "id": "c8dda836",
   "metadata": {},
   "outputs": [],
   "source": []
  }
 ],
 "metadata": {
  "kernelspec": {
   "display_name": "Python 3",
   "language": "python",
   "name": "python3"
  },
  "language_info": {
   "codemirror_mode": {
    "name": "ipython",
    "version": 3
   },
   "file_extension": ".py",
   "mimetype": "text/x-python",
   "name": "python",
   "nbconvert_exporter": "python",
   "pygments_lexer": "ipython3",
   "version": "3.13.4"
  }
 },
 "nbformat": 4,
 "nbformat_minor": 5
}
